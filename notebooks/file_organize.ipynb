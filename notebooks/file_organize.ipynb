{
 "cells": [
  {
   "cell_type": "code",
   "execution_count": null,
   "id": "34406145",
   "metadata": {},
   "outputs": [],
   "source": [
    "import csv\n",
    "import os\n"
   ]
  },
  {
   "cell_type": "code",
   "execution_count": 4,
   "id": "d1a10f74",
   "metadata": {},
   "outputs": [],
   "source": [
    "root_path = \"../data_raw\"\n",
    "people = os.listdir(root_path)\n",
    "type = [\"words\", \"phrases\"]\n",
    "file_paths = []\n",
    "for person in people:\n",
    "    if person == \"calib.txt\":\n",
    "        continue\n",
    "    for i in range(2):\n",
    "        labels = os.listdir(f\"{root_path}/{person}/{type[i]}\")\n",
    "        for label in labels:\n",
    "            reps = os.listdir(f\"{root_path}/{person}/{type[i]}/{label}\")\n",
    "            for rep in reps:\n",
    "                file_path = f\"{root_path}/{person}/{type[i]}/{label}/{rep}\"\n",
    "                file_paths.append(file_path)\n",
    "\n",
    "\n",
    "with open (\"file_paths.csv\", 'w', newline=\"\") as csvfile:\n",
    "    csv_writer = csv.writer(csvfile)\n",
    "    for file_path in file_paths:\n",
    "        csv_writer.writerow([file_path])"
   ]
  }
 ],
 "metadata": {
  "kernelspec": {
   "display_name": "venv",
   "language": "python",
   "name": "python3"
  },
  "language_info": {
   "codemirror_mode": {
    "name": "ipython",
    "version": 3
   },
   "file_extension": ".py",
   "mimetype": "text/x-python",
   "name": "python",
   "nbconvert_exporter": "python",
   "pygments_lexer": "ipython3",
   "version": "3.13.0"
  }
 },
 "nbformat": 4,
 "nbformat_minor": 5
}
